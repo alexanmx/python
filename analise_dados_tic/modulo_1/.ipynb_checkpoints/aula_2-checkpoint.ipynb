{
 "cells": [
  {
   "cell_type": "markdown",
   "id": "d75b0a16-1a42-4986-94e5-1585e82bb2bb",
   "metadata": {},
   "source": [
    "## Criação e Manipulação de Arrays NumPy"
   ]
  },
  {
   "cell_type": "code",
   "execution_count": 4,
   "id": "c5fff033-57d7-4488-8be4-33d384268fa0",
   "metadata": {},
   "outputs": [],
   "source": [
    "# biblioteca NumPy\n",
    "\n",
    "# testes sem NumPy\n",
    "# criar sequencia python\n",
    "python_list = [i for i in range(1_000_000 + 1)]\n",
    "\n",
    "## Tempo de execução: 0.107s\n",
    "## Memória utilizada: 39.8 MiB"
   ]
  },
  {
   "cell_type": "code",
   "execution_count": 5,
   "id": "e36f3dd1-a057-4905-b23e-59e005cf32ab",
   "metadata": {},
   "outputs": [],
   "source": [
    "# pip3 install numpy"
   ]
  },
  {
   "cell_type": "code",
   "execution_count": 3,
   "id": "718fda1b-9d76-4085-b0fe-a12b167cf3a5",
   "metadata": {},
   "outputs": [],
   "source": [
    "import numpy as np"
   ]
  },
  {
   "cell_type": "code",
   "execution_count": 7,
   "id": "07d867c5-2f91-4b78-ba7b-4e331c890d08",
   "metadata": {},
   "outputs": [],
   "source": [
    "# criar sequencia numpy\n",
    "numpy_array = np.arange(0, 1_000_000 + 1, dtype='int64')\n",
    "\n",
    "## Tempo de execução: 0.08s\n",
    "## Memória utilizada: 7.5MiB"
   ]
  },
  {
   "cell_type": "code",
   "execution_count": 8,
   "id": "15d836a2-c68b-457c-bd90-4ff5f66ca183",
   "metadata": {},
   "outputs": [],
   "source": [
    "# calcular quadrados python\n",
    "python_list_square = [i**2 for i in python_list]\n",
    "\n",
    "## Tempo de execução: 0.520s\n",
    "## Memória utilizada: 38.4MiB\n",
    "\n",
    "# calcular quadrados numpy\n",
    "numpy_array_square = numpy_array**2\n",
    "\n",
    "## Tempo de execução: 0.005s\n",
    "## Memória utilizada: 7.6MiB"
   ]
  },
  {
   "cell_type": "markdown",
   "id": "c3ed261a-807d-43ba-968e-99a557873ef8",
   "metadata": {},
   "source": [
    "## Tipo e Acesso aos Elementos de um Array"
   ]
  },
  {
   "cell_type": "code",
   "execution_count": 9,
   "id": "f4434236-f3fe-4ef3-b182-88b6e5a80e76",
   "metadata": {},
   "outputs": [
    {
     "name": "stdout",
     "output_type": "stream",
     "text": [
      "Elementos: [1 2 3 4 5], Tipo dos elementos: int64, Tamanho do array: (5,)\n"
     ]
    }
   ],
   "source": [
    "# criando um array\n",
    "arr = np.array([1,2,3,4,5])\n",
    "print(f'Elementos: {arr}, Tipo dos elementos: {arr.dtype}, Tamanho do array: {arr.shape}')"
   ]
  },
  {
   "cell_type": "code",
   "execution_count": 10,
   "id": "e3ae9d76-70cd-48b9-ad4e-9496078dc160",
   "metadata": {},
   "outputs": [
    {
     "name": "stdout",
     "output_type": "stream",
     "text": [
      "3\n"
     ]
    }
   ],
   "source": [
    "# acesso ao terceiro elemento do array (índice 2):\n",
    "elemento = arr[2]\n",
    "print(elemento)"
   ]
  },
  {
   "cell_type": "code",
   "execution_count": 11,
   "id": "76b8669c-c858-4f1d-a47b-2df80f4fb90c",
   "metadata": {},
   "outputs": [
    {
     "name": "stdout",
     "output_type": "stream",
     "text": [
      "[2 3 4]\n"
     ]
    }
   ],
   "source": [
    "# obtendo elementos de índice 1 a 3:\n",
    "subset = arr[1:4]\n",
    "print(subset)"
   ]
  },
  {
   "cell_type": "code",
   "execution_count": 16,
   "id": "5c2dc9e0-3256-4264-ab9c-d15491651b0f",
   "metadata": {},
   "outputs": [
    {
     "name": "stdout",
     "output_type": "stream",
     "text": [
      "[[1. 2. 3.]\n",
      " [4. 5. 6.]\n",
      " [7. 8. 9.]]\n",
      "Tipo dos elementos: float64, Dimensões da matriz: (3, 3)\n"
     ]
    }
   ],
   "source": [
    "# criando uma matriz\n",
    "matrix = np.arange(1., 10.).reshape((3,3))\n",
    "print(matrix)\n",
    "print(f'Tipo dos elementos: {matrix.dtype}, Dimensões da matriz: {matrix.shape}')"
   ]
  },
  {
   "cell_type": "code",
   "execution_count": 17,
   "id": "c18b7dee-0705-4e72-8f3e-0e876c560fad",
   "metadata": {},
   "outputs": [
    {
     "name": "stdout",
     "output_type": "stream",
     "text": [
      "[4. 5. 6.]\n",
      "[1. 4. 7.]\n"
     ]
    }
   ],
   "source": [
    "## acessando a linha 2\n",
    "linha = matrix[1]\n",
    "print(linha)\n",
    "\n",
    "## acessando a 1 coluna\n",
    "coluna = matrix[:,0]\n",
    "print(coluna)"
   ]
  },
  {
   "cell_type": "code",
   "execution_count": 18,
   "id": "2689fc0d-c021-41b8-b743-c4ccb942161c",
   "metadata": {},
   "outputs": [
    {
     "name": "stdout",
     "output_type": "stream",
     "text": [
      "[2. 4. 6.]\n"
     ]
    }
   ],
   "source": [
    "## multiplicar todos os elementos por 2\n",
    "a = np.array([1.0, 2.0, 3.0])\n",
    "b = 2.0\n",
    "\n",
    "resultado = a * b\n",
    "print(resultado)"
   ]
  },
  {
   "cell_type": "markdown",
   "id": "707be26c-9786-4b3b-bc0b-85017afb7728",
   "metadata": {},
   "source": [
    "## Multiplicação de Matrizes"
   ]
  },
  {
   "cell_type": "code",
   "execution_count": 25,
   "id": "effd20a9-706d-4de3-b2e6-c1e339eac17b",
   "metadata": {},
   "outputs": [],
   "source": [
    "A = np.array([[1, 2], [3, 4], [5, 6]])\n",
    "B = np.array([[1], [2]])"
   ]
  },
  {
   "cell_type": "code",
   "execution_count": 26,
   "id": "58772f34-b91a-43c8-82ba-72843bfdd161",
   "metadata": {},
   "outputs": [
    {
     "name": "stdout",
     "output_type": "stream",
     "text": [
      "[[1 2]\n",
      " [3 4]\n",
      " [5 6]]\n"
     ]
    }
   ],
   "source": [
    "print(A)"
   ]
  },
  {
   "cell_type": "code",
   "execution_count": 27,
   "id": "d16e5ae6-c11a-4ada-8181-36a88468d2da",
   "metadata": {},
   "outputs": [
    {
     "name": "stdout",
     "output_type": "stream",
     "text": [
      "[[1]\n",
      " [2]]\n"
     ]
    }
   ],
   "source": [
    "print(B)"
   ]
  },
  {
   "cell_type": "code",
   "execution_count": 29,
   "id": "4ec35cc6-5a13-4da0-bddf-7aa011acc96b",
   "metadata": {},
   "outputs": [
    {
     "name": "stdout",
     "output_type": "stream",
     "text": [
      "[[np.int64(5)], [np.int64(11)], [np.int64(17)]]\n"
     ]
    }
   ],
   "source": [
    "## Multiplicação utilizando apenas listas Python\n",
    "C = [[0], [0], [0]]\n",
    "\n",
    "for i in range(len(A)):\n",
    "    for j in range(len(B[0])):\n",
    "        for k in range(len(B)):\n",
    "            C[i][j] += A[i][k] * B[k][j]\n",
    "\n",
    "print(C)"
   ]
  },
  {
   "cell_type": "code",
   "execution_count": 30,
   "id": "768550e1-0065-4320-a1db-7eda28bde0b3",
   "metadata": {},
   "outputs": [
    {
     "name": "stdout",
     "output_type": "stream",
     "text": [
      "[[ 5]\n",
      " [11]\n",
      " [17]]\n"
     ]
    }
   ],
   "source": [
    "## agora vamos realizar a mesma operação com Numpy\n",
    "D = A @ B\n",
    "print(D)"
   ]
  },
  {
   "cell_type": "code",
   "execution_count": 38,
   "id": "09dc31a6-2fb0-432a-9e70-8f3661d2ff17",
   "metadata": {},
   "outputs": [
    {
     "name": "stdout",
     "output_type": "stream",
     "text": [
      "[[   41541750000    41541999500    41542249000 ...    41665751500\n",
      "     41666001000    41666250500]\n",
      " [  103916750000   103917499500   103918249000 ...   104289251500\n",
      "    104290001000   104290750500]\n",
      " [  166291750000   166292999500   166294249000 ...   166912751500\n",
      "    166914001000   166915250500]\n",
      " ...\n",
      " [31041916750000 31042165499500 31042414249000 ... 31165545251500\n",
      "  31165794001000 31166042750500]\n",
      " [31104291750000 31104540999500 31104790249000 ... 31228168751500\n",
      "  31228418001000 31228667250500]\n",
      " [31166666750000 31166916499500 31167166249000 ... 31290792251500\n",
      "  31291042001000 31291291750500]]\n"
     ]
    }
   ],
   "source": [
    "## agora vamos multiplicar uma matriz gigante com Numpy\n",
    "N = 500\n",
    "A = np.arange(N*N, dtype='int64').reshape(N,N)\n",
    "B = A * 2\n",
    "\n",
    "C = A @ B\n",
    "print(C)\n",
    "\n",
    "## Tempo de execução: 0.196s\n",
    "## Memória utilizada: 5.8MiB"
   ]
  },
  {
   "cell_type": "code",
   "execution_count": 39,
   "id": "ba98e7b7-4b92-4948-8ca1-ddf9a9c46776",
   "metadata": {},
   "outputs": [
    {
     "name": "stderr",
     "output_type": "stream",
     "text": [
      "IOPub data rate exceeded.\n",
      "The Jupyter server will temporarily stop sending output\n",
      "to the client in order to avoid crashing it.\n",
      "To change this limit, set the config variable\n",
      "`--ServerApp.iopub_data_rate_limit`.\n",
      "\n",
      "Current values:\n",
      "ServerApp.iopub_data_rate_limit=1000000.0 (bytes/sec)\n",
      "ServerApp.rate_limit_window=3.0 (secs)\n",
      "\n"
     ]
    }
   ],
   "source": [
    "## agora vamos multiplicar uma matriz com python\n",
    "A_list = A.tolist()\n",
    "B_list = B.tolist()\n",
    "C_list = np.zeros_like(A).tolist()\n",
    "\n",
    "for i in range(len(A_list)):\n",
    "    for j in range(len(B_list[0])):\n",
    "        for k in range(len(B_list)):\n",
    "            C_list[i][j] += A_list[i][k] * B_list[k][j]\n",
    "\n",
    "print(C_list)\n",
    "## Tempo de execução: 66.462s\n",
    "## Memória utilizada: 211.6MiB"
   ]
  },
  {
   "cell_type": "code",
   "execution_count": 1,
   "id": "1a8c8950-d0e4-47a6-b03a-60c2d94b458c",
   "metadata": {},
   "outputs": [],
   "source": [
    "## exercícios"
   ]
  },
  {
   "cell_type": "code",
   "execution_count": 4,
   "id": "ff9dd54f-9bdb-45f4-a13d-515de21cdb14",
   "metadata": {},
   "outputs": [
    {
     "name": "stdout",
     "output_type": "stream",
     "text": [
      "[['#' ' ' ' ' ' ' ' ' ' ']\n",
      " [' ' '#' ' ' ' ' ' ' ' ']\n",
      " [' ' ' ' '#' ' ' ' ' ' ']\n",
      " [' ' ' ' ' ' '#' ' ' ' ']\n",
      " [' ' ' ' ' ' ' ' '#' ' ']\n",
      " [' ' ' ' ' ' ' ' ' ' '#']]\n"
     ]
    }
   ],
   "source": [
    "A = np.array([\n",
    "    [\" \", \" \", \" \", \" \", \" \", \" \"],\n",
    "    [\" \", \" \", \" \", \" \", \" \", \" \"],\n",
    "    [\" \", \" \", \" \", \" \", \" \", \" \"],\n",
    "    [\" \", \" \", \" \", \" \", \" \", \" \"],\n",
    "    [\" \", \" \", \" \", \" \", \" \", \" \"],\n",
    "    [\" \", \" \", \" \", \" \", \" \", \" \"]\n",
    "])\n",
    "\n",
    "for i in range(6):\n",
    "    A[i][i] = \"#\"\n",
    "\n",
    "print(A)"
   ]
  },
  {
   "cell_type": "code",
   "execution_count": 5,
   "id": "92479f1a-c619-4af4-b49c-d16e6213b7ec",
   "metadata": {},
   "outputs": [
    {
     "name": "stdout",
     "output_type": "stream",
     "text": [
      "[[' ' '#' '#' '#' '#' '#']\n",
      " [' ' ' ' '#' '#' '#' '#']\n",
      " [' ' ' ' ' ' '#' '#' '#']\n",
      " [' ' ' ' ' ' ' ' '#' '#']\n",
      " [' ' ' ' ' ' ' ' ' ' '#']\n",
      " [' ' ' ' ' ' ' ' ' ' ' ']]\n"
     ]
    }
   ],
   "source": [
    "A = np.array([\n",
    "    [\" \", \" \", \" \", \" \", \" \", \" \"],\n",
    "    [\" \", \" \", \" \", \" \", \" \", \" \"],\n",
    "    [\" \", \" \", \" \", \" \", \" \", \" \"],\n",
    "    [\" \", \" \", \" \", \" \", \" \", \" \"],\n",
    "    [\" \", \" \", \" \", \" \", \" \", \" \"],\n",
    "    [\" \", \" \", \" \", \" \", \" \", \" \"]\n",
    "])\n",
    "\n",
    "for i in range(6):\n",
    "    for j in range(6):\n",
    "        if(i<j):\n",
    "            A[i][j] = \"#\"\n",
    "\n",
    "print(A)"
   ]
  },
  {
   "cell_type": "code",
   "execution_count": 6,
   "id": "7eff5087-d7e0-4e58-9b9f-f9194f3764b0",
   "metadata": {},
   "outputs": [
    {
     "name": "stdout",
     "output_type": "stream",
     "text": [
      "[[' ' ' ' ' ' ' ' ' ' '#']\n",
      " [' ' ' ' ' ' ' ' '#' ' ']\n",
      " [' ' ' ' ' ' '#' ' ' ' ']\n",
      " [' ' ' ' '#' ' ' ' ' ' ']\n",
      " [' ' '#' ' ' ' ' ' ' ' ']\n",
      " ['#' ' ' ' ' ' ' ' ' ' ']]\n"
     ]
    }
   ],
   "source": [
    "A = np.array([\n",
    "    [\" \", \" \", \" \", \" \", \" \", \" \"],\n",
    "    [\" \", \" \", \" \", \" \", \" \", \" \"],\n",
    "    [\" \", \" \", \" \", \" \", \" \", \" \"],\n",
    "    [\" \", \" \", \" \", \" \", \" \", \" \"],\n",
    "    [\" \", \" \", \" \", \" \", \" \", \" \"],\n",
    "    [\" \", \" \", \" \", \" \", \" \", \" \"]\n",
    "])\n",
    "\n",
    "for i in range(6):\n",
    "    A[i][5 - i] = \"#\"\n",
    "\n",
    "print(A)"
   ]
  },
  {
   "cell_type": "code",
   "execution_count": 7,
   "id": "6112d859-17f8-403c-9f59-c17deb462820",
   "metadata": {},
   "outputs": [
    {
     "name": "stdout",
     "output_type": "stream",
     "text": [
      "[[' ' ' ' ' ' ' ' ' ' ' ']\n",
      " ['#' ' ' ' ' ' ' ' ' ' ']\n",
      " ['#' '#' ' ' ' ' ' ' ' ']\n",
      " ['#' '#' '#' ' ' ' ' ' ']\n",
      " ['#' '#' '#' '#' ' ' ' ']\n",
      " ['#' '#' '#' '#' '#' ' ']]\n"
     ]
    }
   ],
   "source": [
    "A = np.array([\n",
    "    [\" \", \" \", \" \", \" \", \" \", \" \"],\n",
    "    [\" \", \" \", \" \", \" \", \" \", \" \"],\n",
    "    [\" \", \" \", \" \", \" \", \" \", \" \"],\n",
    "    [\" \", \" \", \" \", \" \", \" \", \" \"],\n",
    "    [\" \", \" \", \" \", \" \", \" \", \" \"],\n",
    "    [\" \", \" \", \" \", \" \", \" \", \" \"]\n",
    "])\n",
    "\n",
    "for i in range (6):\n",
    "    for j in range (6):\n",
    "        if(i>j):\n",
    "            A[i][j] = \"#\"\n",
    "\n",
    "print(A)"
   ]
  },
  {
   "cell_type": "code",
   "execution_count": null,
   "id": "93d823f7-43bc-46c1-af9d-742cbd88f5da",
   "metadata": {},
   "outputs": [],
   "source": []
  }
 ],
 "metadata": {
  "kernelspec": {
   "display_name": "Python 3 (ipykernel)",
   "language": "python",
   "name": "python3"
  },
  "language_info": {
   "codemirror_mode": {
    "name": "ipython",
    "version": 3
   },
   "file_extension": ".py",
   "mimetype": "text/x-python",
   "name": "python",
   "nbconvert_exporter": "python",
   "pygments_lexer": "ipython3",
   "version": "3.12.8"
  }
 },
 "nbformat": 4,
 "nbformat_minor": 5
}
