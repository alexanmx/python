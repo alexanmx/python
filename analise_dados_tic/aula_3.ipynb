{
 "cells": [
  {
   "cell_type": "markdown",
   "id": "536b868e-b5d4-483c-afaa-822b63bf0e47",
   "metadata": {},
   "source": [
    "# Pandas: Serires e DataFrames"
   ]
  },
  {
   "cell_type": "code",
   "execution_count": null,
   "id": "5577f90e-8a38-46c0-8352-8f5d3d1e8357",
   "metadata": {},
   "outputs": [],
   "source": [
    "# pip install pandas"
   ]
  },
  {
   "cell_type": "code",
   "execution_count": 2,
   "id": "e64c24ea-e930-4ff4-9004-39a401bd3446",
   "metadata": {},
   "outputs": [],
   "source": [
    "import pandas as pd"
   ]
  },
  {
   "cell_type": "code",
   "execution_count": 3,
   "id": "636aa648-c0f2-4d0a-a6e0-59acae2854f1",
   "metadata": {},
   "outputs": [],
   "source": [
    "cidades = [\n",
    "    'São Paulo (SP)',\n",
    "    'Rio de Janeiro (RJ)',\n",
    "    'Brasília (DF)',\n",
    "    'Fortaleza (CE)',\n",
    "    'Salvador (BA)',\n",
    "    'Belo Horizonte (MG)',\n",
    "    'Manaus (AM)',\n",
    "    'Curitiba (PR)',\n",
    "]\n",
    "\n",
    "populacoes = [\n",
    "    12,\n",
    "    6.5,\n",
    "    3,\n",
    "    2.4,\n",
    "    2.4,\n",
    "    2.3,\n",
    "    2,\n",
    "    1.7\n",
    "]"
   ]
  },
  {
   "cell_type": "code",
   "execution_count": 4,
   "id": "f5bd63f9-59cc-4d37-a8f9-3e223c21d55f",
   "metadata": {},
   "outputs": [
    {
     "data": {
      "text/plain": [
       "0         São Paulo (SP)\n",
       "1    Rio de Janeiro (RJ)\n",
       "2          Brasília (DF)\n",
       "3         Fortaleza (CE)\n",
       "4          Salvador (BA)\n",
       "5    Belo Horizonte (MG)\n",
       "6            Manaus (AM)\n",
       "7          Curitiba (PR)\n",
       "dtype: object"
      ]
     },
     "execution_count": 4,
     "metadata": {},
     "output_type": "execute_result"
    }
   ],
   "source": [
    "cidades_serie = pd.Series(cidades)\n",
    "cidades_serie"
   ]
  },
  {
   "cell_type": "code",
   "execution_count": 5,
   "id": "87f7e889-46f8-4ce7-a15f-dba89e1d61d6",
   "metadata": {},
   "outputs": [
    {
     "data": {
      "text/plain": [
       "0    12.0\n",
       "1     6.5\n",
       "2     3.0\n",
       "3     2.4\n",
       "4     2.4\n",
       "5     2.3\n",
       "6     2.0\n",
       "7     1.7\n",
       "dtype: float64"
      ]
     },
     "execution_count": 5,
     "metadata": {},
     "output_type": "execute_result"
    }
   ],
   "source": [
    "populacoes_serie = pd.Series(populacoes)\n",
    "populacoes_serie"
   ]
  },
  {
   "cell_type": "code",
   "execution_count": 10,
   "id": "d1b036ea-8c29-46be-b5ce-29894d8edb58",
   "metadata": {},
   "outputs": [
    {
     "data": {
      "text/plain": [
       "3    Fortaleza (CE)\n",
       "4     Salvador (BA)\n",
       "dtype: object"
      ]
     },
     "execution_count": 10,
     "metadata": {},
     "output_type": "execute_result"
    }
   ],
   "source": [
    "# acessando itens\n",
    "cidades_serie[3]\n",
    "\n",
    "#acessando faixa de itens\n",
    "cidades_serie[3:5]"
   ]
  },
  {
   "cell_type": "code",
   "execution_count": 11,
   "id": "4cdc937d-ef1d-43fb-b33c-9b003510a018",
   "metadata": {},
   "outputs": [
    {
     "data": {
      "text/plain": [
       "np.float64(12.0)"
      ]
     },
     "execution_count": 11,
     "metadata": {},
     "output_type": "execute_result"
    }
   ],
   "source": [
    "# pegando a maior série de populações\n",
    "populacoes_serie.max()"
   ]
  },
  {
   "cell_type": "code",
   "execution_count": 12,
   "id": "db115d8e-d48a-440d-a80a-dbef24bebbf9",
   "metadata": {},
   "outputs": [
    {
     "data": {
      "text/plain": [
       "np.float64(4.0375)"
      ]
     },
     "execution_count": 12,
     "metadata": {},
     "output_type": "execute_result"
    }
   ],
   "source": [
    "# pegando a média de populações\n",
    "populacoes_serie.mean()"
   ]
  },
  {
   "cell_type": "code",
   "execution_count": 13,
   "id": "7c2a6e43-83cf-4e27-85ae-7f7af168db8e",
   "metadata": {},
   "outputs": [
    {
     "data": {
      "text/plain": [
       "0    24.0\n",
       "1    13.0\n",
       "2     6.0\n",
       "3     4.8\n",
       "4     4.8\n",
       "5     4.6\n",
       "6     4.0\n",
       "7     3.4\n",
       "dtype: float64"
      ]
     },
     "execution_count": 13,
     "metadata": {},
     "output_type": "execute_result"
    }
   ],
   "source": [
    "# multiplicando\n",
    "populacoes_serie * 2"
   ]
  },
  {
   "cell_type": "markdown",
   "id": "aa069ac5-3cf4-447e-aa20-e1d666da6226",
   "metadata": {},
   "source": [
    "## DataFrames"
   ]
  },
  {
   "cell_type": "code",
   "execution_count": 14,
   "id": "113e181e-3192-4e6a-872e-a88b4fd2b14f",
   "metadata": {},
   "outputs": [
    {
     "data": {
      "text/html": [
       "<div>\n",
       "<style scoped>\n",
       "    .dataframe tbody tr th:only-of-type {\n",
       "        vertical-align: middle;\n",
       "    }\n",
       "\n",
       "    .dataframe tbody tr th {\n",
       "        vertical-align: top;\n",
       "    }\n",
       "\n",
       "    .dataframe thead th {\n",
       "        text-align: right;\n",
       "    }\n",
       "</style>\n",
       "<table border=\"1\" class=\"dataframe\">\n",
       "  <thead>\n",
       "    <tr style=\"text-align: right;\">\n",
       "      <th></th>\n",
       "      <th>cidade</th>\n",
       "      <th>populacao em milhoes</th>\n",
       "    </tr>\n",
       "  </thead>\n",
       "  <tbody>\n",
       "    <tr>\n",
       "      <th>0</th>\n",
       "      <td>São Paulo (SP)</td>\n",
       "      <td>12.0</td>\n",
       "    </tr>\n",
       "    <tr>\n",
       "      <th>1</th>\n",
       "      <td>Rio de Janeiro (RJ)</td>\n",
       "      <td>6.5</td>\n",
       "    </tr>\n",
       "    <tr>\n",
       "      <th>2</th>\n",
       "      <td>Brasília (DF)</td>\n",
       "      <td>3.0</td>\n",
       "    </tr>\n",
       "    <tr>\n",
       "      <th>3</th>\n",
       "      <td>Fortaleza (CE)</td>\n",
       "      <td>2.4</td>\n",
       "    </tr>\n",
       "    <tr>\n",
       "      <th>4</th>\n",
       "      <td>Salvador (BA)</td>\n",
       "      <td>2.4</td>\n",
       "    </tr>\n",
       "    <tr>\n",
       "      <th>5</th>\n",
       "      <td>Belo Horizonte (MG)</td>\n",
       "      <td>2.3</td>\n",
       "    </tr>\n",
       "    <tr>\n",
       "      <th>6</th>\n",
       "      <td>Manaus (AM)</td>\n",
       "      <td>2.0</td>\n",
       "    </tr>\n",
       "    <tr>\n",
       "      <th>7</th>\n",
       "      <td>Curitiba (PR)</td>\n",
       "      <td>1.7</td>\n",
       "    </tr>\n",
       "  </tbody>\n",
       "</table>\n",
       "</div>"
      ],
      "text/plain": [
       "                cidade  populacao em milhoes\n",
       "0       São Paulo (SP)                  12.0\n",
       "1  Rio de Janeiro (RJ)                   6.5\n",
       "2        Brasília (DF)                   3.0\n",
       "3       Fortaleza (CE)                   2.4\n",
       "4        Salvador (BA)                   2.4\n",
       "5  Belo Horizonte (MG)                   2.3\n",
       "6          Manaus (AM)                   2.0\n",
       "7        Curitiba (PR)                   1.7"
      ]
     },
     "execution_count": 14,
     "metadata": {},
     "output_type": "execute_result"
    }
   ],
   "source": [
    "cidades_populosas = pd.DataFrame({'cidade': cidades_serie, 'populacao em milhoes': populacoes_serie})\n",
    "cidades_populosas"
   ]
  },
  {
   "cell_type": "code",
   "execution_count": 15,
   "id": "13b10b64-0489-4685-8fcf-5502f5300d09",
   "metadata": {},
   "outputs": [
    {
     "name": "stdout",
     "output_type": "stream",
     "text": [
      "<class 'pandas.core.frame.DataFrame'>\n",
      "RangeIndex: 8 entries, 0 to 7\n",
      "Data columns (total 2 columns):\n",
      " #   Column                Non-Null Count  Dtype  \n",
      "---  ------                --------------  -----  \n",
      " 0   cidade                8 non-null      object \n",
      " 1   populacao em milhoes  8 non-null      float64\n",
      "dtypes: float64(1), object(1)\n",
      "memory usage: 260.0+ bytes\n"
     ]
    }
   ],
   "source": [
    "# informacoes uteis sobre o DataFrame\n",
    "cidades_populosas.info()"
   ]
  },
  {
   "cell_type": "code",
   "execution_count": 17,
   "id": "b76e092c-31d6-40d0-8aad-aee26a22cb31",
   "metadata": {},
   "outputs": [
    {
     "data": {
      "text/plain": [
       "0         São Paulo (SP)\n",
       "1    Rio de Janeiro (RJ)\n",
       "2          Brasília (DF)\n",
       "3         Fortaleza (CE)\n",
       "4          Salvador (BA)\n",
       "5    Belo Horizonte (MG)\n",
       "6            Manaus (AM)\n",
       "7          Curitiba (PR)\n",
       "Name: cidade, dtype: object"
      ]
     },
     "execution_count": 17,
     "metadata": {},
     "output_type": "execute_result"
    }
   ],
   "source": [
    "# pegar uma coluna\n",
    "cidades_populosas['cidade']"
   ]
  },
  {
   "cell_type": "code",
   "execution_count": 19,
   "id": "61b3947e-fa25-4478-afe2-c160de9eef03",
   "metadata": {},
   "outputs": [
    {
     "data": {
      "text/plain": [
       "cidade                  Fortaleza (CE)\n",
       "populacao em milhoes               2.4\n",
       "Name: 3, dtype: object"
      ]
     },
     "execution_count": 19,
     "metadata": {},
     "output_type": "execute_result"
    }
   ],
   "source": [
    "# pegar uma linha inteira\n",
    "cidades_populosas.iloc[3]"
   ]
  },
  {
   "cell_type": "code",
   "execution_count": 20,
   "id": "89c3d90f-83e0-4dcc-901f-dfe740253e21",
   "metadata": {},
   "outputs": [
    {
     "data": {
      "text/html": [
       "<div>\n",
       "<style scoped>\n",
       "    .dataframe tbody tr th:only-of-type {\n",
       "        vertical-align: middle;\n",
       "    }\n",
       "\n",
       "    .dataframe tbody tr th {\n",
       "        vertical-align: top;\n",
       "    }\n",
       "\n",
       "    .dataframe thead th {\n",
       "        text-align: right;\n",
       "    }\n",
       "</style>\n",
       "<table border=\"1\" class=\"dataframe\">\n",
       "  <thead>\n",
       "    <tr style=\"text-align: right;\">\n",
       "      <th></th>\n",
       "      <th>cidade</th>\n",
       "      <th>populacao em milhoes</th>\n",
       "    </tr>\n",
       "  </thead>\n",
       "  <tbody>\n",
       "    <tr>\n",
       "      <th>3</th>\n",
       "      <td>Fortaleza (CE)</td>\n",
       "      <td>2.4</td>\n",
       "    </tr>\n",
       "    <tr>\n",
       "      <th>4</th>\n",
       "      <td>Salvador (BA)</td>\n",
       "      <td>2.4</td>\n",
       "    </tr>\n",
       "  </tbody>\n",
       "</table>\n",
       "</div>"
      ],
      "text/plain": [
       "           cidade  populacao em milhoes\n",
       "3  Fortaleza (CE)                   2.4\n",
       "4   Salvador (BA)                   2.4"
      ]
     },
     "execution_count": 20,
     "metadata": {},
     "output_type": "execute_result"
    }
   ],
   "source": [
    "# pegar faixa de indexes\n",
    "cidades_populosas.iloc[3:5]"
   ]
  },
  {
   "cell_type": "code",
   "execution_count": 21,
   "id": "81eb8c48-dc7a-4b08-b9b2-0478f5271875",
   "metadata": {},
   "outputs": [
    {
     "data": {
      "text/html": [
       "<div>\n",
       "<style scoped>\n",
       "    .dataframe tbody tr th:only-of-type {\n",
       "        vertical-align: middle;\n",
       "    }\n",
       "\n",
       "    .dataframe tbody tr th {\n",
       "        vertical-align: top;\n",
       "    }\n",
       "\n",
       "    .dataframe thead th {\n",
       "        text-align: right;\n",
       "    }\n",
       "</style>\n",
       "<table border=\"1\" class=\"dataframe\">\n",
       "  <thead>\n",
       "    <tr style=\"text-align: right;\">\n",
       "      <th></th>\n",
       "      <th>cidade</th>\n",
       "      <th>populacao em milhoes</th>\n",
       "    </tr>\n",
       "  </thead>\n",
       "  <tbody>\n",
       "    <tr>\n",
       "      <th>0</th>\n",
       "      <td>São Paulo (SP)</td>\n",
       "      <td>12.0</td>\n",
       "    </tr>\n",
       "    <tr>\n",
       "      <th>1</th>\n",
       "      <td>Rio de Janeiro (RJ)</td>\n",
       "      <td>6.5</td>\n",
       "    </tr>\n",
       "    <tr>\n",
       "      <th>2</th>\n",
       "      <td>Brasília (DF)</td>\n",
       "      <td>3.0</td>\n",
       "    </tr>\n",
       "    <tr>\n",
       "      <th>3</th>\n",
       "      <td>Fortaleza (CE)</td>\n",
       "      <td>2.4</td>\n",
       "    </tr>\n",
       "    <tr>\n",
       "      <th>4</th>\n",
       "      <td>Salvador (BA)</td>\n",
       "      <td>2.4</td>\n",
       "    </tr>\n",
       "  </tbody>\n",
       "</table>\n",
       "</div>"
      ],
      "text/plain": [
       "                cidade  populacao em milhoes\n",
       "0       São Paulo (SP)                  12.0\n",
       "1  Rio de Janeiro (RJ)                   6.5\n",
       "2        Brasília (DF)                   3.0\n",
       "3       Fortaleza (CE)                   2.4\n",
       "4        Salvador (BA)                   2.4"
      ]
     },
     "execution_count": 21,
     "metadata": {},
     "output_type": "execute_result"
    }
   ],
   "source": [
    "# pegar só os 5 primeiros elementos\n",
    "cidades_populosas.head()"
   ]
  },
  {
   "cell_type": "code",
   "execution_count": 22,
   "id": "36bba288-daeb-4143-ad69-7c45a88ba822",
   "metadata": {},
   "outputs": [
    {
     "data": {
      "text/html": [
       "<div>\n",
       "<style scoped>\n",
       "    .dataframe tbody tr th:only-of-type {\n",
       "        vertical-align: middle;\n",
       "    }\n",
       "\n",
       "    .dataframe tbody tr th {\n",
       "        vertical-align: top;\n",
       "    }\n",
       "\n",
       "    .dataframe thead th {\n",
       "        text-align: right;\n",
       "    }\n",
       "</style>\n",
       "<table border=\"1\" class=\"dataframe\">\n",
       "  <thead>\n",
       "    <tr style=\"text-align: right;\">\n",
       "      <th></th>\n",
       "      <th>cidade</th>\n",
       "      <th>populacao em milhoes</th>\n",
       "    </tr>\n",
       "  </thead>\n",
       "  <tbody>\n",
       "    <tr>\n",
       "      <th>3</th>\n",
       "      <td>Fortaleza (CE)</td>\n",
       "      <td>2.4</td>\n",
       "    </tr>\n",
       "    <tr>\n",
       "      <th>4</th>\n",
       "      <td>Salvador (BA)</td>\n",
       "      <td>2.4</td>\n",
       "    </tr>\n",
       "    <tr>\n",
       "      <th>5</th>\n",
       "      <td>Belo Horizonte (MG)</td>\n",
       "      <td>2.3</td>\n",
       "    </tr>\n",
       "    <tr>\n",
       "      <th>6</th>\n",
       "      <td>Manaus (AM)</td>\n",
       "      <td>2.0</td>\n",
       "    </tr>\n",
       "    <tr>\n",
       "      <th>7</th>\n",
       "      <td>Curitiba (PR)</td>\n",
       "      <td>1.7</td>\n",
       "    </tr>\n",
       "  </tbody>\n",
       "</table>\n",
       "</div>"
      ],
      "text/plain": [
       "                cidade  populacao em milhoes\n",
       "3       Fortaleza (CE)                   2.4\n",
       "4        Salvador (BA)                   2.4\n",
       "5  Belo Horizonte (MG)                   2.3\n",
       "6          Manaus (AM)                   2.0\n",
       "7        Curitiba (PR)                   1.7"
      ]
     },
     "execution_count": 22,
     "metadata": {},
     "output_type": "execute_result"
    }
   ],
   "source": [
    "# pegar só os 5 últimos elementos\n",
    "cidades_populosas.tail()"
   ]
  },
  {
   "cell_type": "code",
   "execution_count": 24,
   "id": "d6d2f237-bbea-4734-996a-2fdff64e6eda",
   "metadata": {},
   "outputs": [
    {
     "data": {
      "text/plain": [
       "np.float64(4.0375)"
      ]
     },
     "execution_count": 24,
     "metadata": {},
     "output_type": "execute_result"
    }
   ],
   "source": [
    "# média da coluna\n",
    "cidades_populosas['populacao em milhoes'].mean()"
   ]
  },
  {
   "cell_type": "markdown",
   "id": "992fdcb8-b254-4d13-ac7f-70a7e6e1caf3",
   "metadata": {},
   "source": [
    "## Adicionando Colunas"
   ]
  },
  {
   "cell_type": "code",
   "execution_count": 25,
   "id": "d378dccd-da97-4742-89fd-fb8d8c6e5f8b",
   "metadata": {},
   "outputs": [],
   "source": [
    "area_urbana = [\n",
    "    '914',\n",
    "    '640',\n",
    "    '590',\n",
    "    '253',\n",
    "    '196',\n",
    "    '274',\n",
    "    '277',\n",
    "    '336'\n",
    "]"
   ]
  },
  {
   "cell_type": "code",
   "execution_count": 26,
   "id": "c6f98a12-e1b8-4a4b-be78-cc2517ee5c99",
   "metadata": {},
   "outputs": [
    {
     "data": {
      "text/html": [
       "<div>\n",
       "<style scoped>\n",
       "    .dataframe tbody tr th:only-of-type {\n",
       "        vertical-align: middle;\n",
       "    }\n",
       "\n",
       "    .dataframe tbody tr th {\n",
       "        vertical-align: top;\n",
       "    }\n",
       "\n",
       "    .dataframe thead th {\n",
       "        text-align: right;\n",
       "    }\n",
       "</style>\n",
       "<table border=\"1\" class=\"dataframe\">\n",
       "  <thead>\n",
       "    <tr style=\"text-align: right;\">\n",
       "      <th></th>\n",
       "      <th>cidade</th>\n",
       "      <th>populacao em milhoes</th>\n",
       "      <th>area urbana em km2</th>\n",
       "    </tr>\n",
       "  </thead>\n",
       "  <tbody>\n",
       "    <tr>\n",
       "      <th>0</th>\n",
       "      <td>São Paulo (SP)</td>\n",
       "      <td>12.0</td>\n",
       "      <td>914</td>\n",
       "    </tr>\n",
       "    <tr>\n",
       "      <th>1</th>\n",
       "      <td>Rio de Janeiro (RJ)</td>\n",
       "      <td>6.5</td>\n",
       "      <td>640</td>\n",
       "    </tr>\n",
       "    <tr>\n",
       "      <th>2</th>\n",
       "      <td>Brasília (DF)</td>\n",
       "      <td>3.0</td>\n",
       "      <td>590</td>\n",
       "    </tr>\n",
       "    <tr>\n",
       "      <th>3</th>\n",
       "      <td>Fortaleza (CE)</td>\n",
       "      <td>2.4</td>\n",
       "      <td>253</td>\n",
       "    </tr>\n",
       "    <tr>\n",
       "      <th>4</th>\n",
       "      <td>Salvador (BA)</td>\n",
       "      <td>2.4</td>\n",
       "      <td>196</td>\n",
       "    </tr>\n",
       "    <tr>\n",
       "      <th>5</th>\n",
       "      <td>Belo Horizonte (MG)</td>\n",
       "      <td>2.3</td>\n",
       "      <td>274</td>\n",
       "    </tr>\n",
       "    <tr>\n",
       "      <th>6</th>\n",
       "      <td>Manaus (AM)</td>\n",
       "      <td>2.0</td>\n",
       "      <td>277</td>\n",
       "    </tr>\n",
       "    <tr>\n",
       "      <th>7</th>\n",
       "      <td>Curitiba (PR)</td>\n",
       "      <td>1.7</td>\n",
       "      <td>336</td>\n",
       "    </tr>\n",
       "  </tbody>\n",
       "</table>\n",
       "</div>"
      ],
      "text/plain": [
       "                cidade  populacao em milhoes area urbana em km2\n",
       "0       São Paulo (SP)                  12.0                914\n",
       "1  Rio de Janeiro (RJ)                   6.5                640\n",
       "2        Brasília (DF)                   3.0                590\n",
       "3       Fortaleza (CE)                   2.4                253\n",
       "4        Salvador (BA)                   2.4                196\n",
       "5  Belo Horizonte (MG)                   2.3                274\n",
       "6          Manaus (AM)                   2.0                277\n",
       "7        Curitiba (PR)                   1.7                336"
      ]
     },
     "execution_count": 26,
     "metadata": {},
     "output_type": "execute_result"
    }
   ],
   "source": [
    "cidades_populosas['area urbana em km2'] = area_urbana\n",
    "cidades_populosas"
   ]
  },
  {
   "cell_type": "markdown",
   "id": "ea24770e-1208-4717-ae59-07ad2a8b9f05",
   "metadata": {},
   "source": [
    "## Aplicando Funções"
   ]
  },
  {
   "cell_type": "code",
   "execution_count": 28,
   "id": "c934b06b-6a54-4c92-bca1-91051bb240a9",
   "metadata": {},
   "outputs": [
    {
     "data": {
      "text/html": [
       "<div>\n",
       "<style scoped>\n",
       "    .dataframe tbody tr th:only-of-type {\n",
       "        vertical-align: middle;\n",
       "    }\n",
       "\n",
       "    .dataframe tbody tr th {\n",
       "        vertical-align: top;\n",
       "    }\n",
       "\n",
       "    .dataframe thead th {\n",
       "        text-align: right;\n",
       "    }\n",
       "</style>\n",
       "<table border=\"1\" class=\"dataframe\">\n",
       "  <thead>\n",
       "    <tr style=\"text-align: right;\">\n",
       "      <th></th>\n",
       "      <th>cidade</th>\n",
       "      <th>populacao em milhoes</th>\n",
       "      <th>area urbana em km2</th>\n",
       "      <th>populacao</th>\n",
       "    </tr>\n",
       "  </thead>\n",
       "  <tbody>\n",
       "    <tr>\n",
       "      <th>0</th>\n",
       "      <td>São Paulo (SP)</td>\n",
       "      <td>12.0</td>\n",
       "      <td>914</td>\n",
       "      <td>12000000.0</td>\n",
       "    </tr>\n",
       "    <tr>\n",
       "      <th>1</th>\n",
       "      <td>Rio de Janeiro (RJ)</td>\n",
       "      <td>6.5</td>\n",
       "      <td>640</td>\n",
       "      <td>6500000.0</td>\n",
       "    </tr>\n",
       "    <tr>\n",
       "      <th>2</th>\n",
       "      <td>Brasília (DF)</td>\n",
       "      <td>3.0</td>\n",
       "      <td>590</td>\n",
       "      <td>3000000.0</td>\n",
       "    </tr>\n",
       "    <tr>\n",
       "      <th>3</th>\n",
       "      <td>Fortaleza (CE)</td>\n",
       "      <td>2.4</td>\n",
       "      <td>253</td>\n",
       "      <td>2400000.0</td>\n",
       "    </tr>\n",
       "    <tr>\n",
       "      <th>4</th>\n",
       "      <td>Salvador (BA)</td>\n",
       "      <td>2.4</td>\n",
       "      <td>196</td>\n",
       "      <td>2400000.0</td>\n",
       "    </tr>\n",
       "    <tr>\n",
       "      <th>5</th>\n",
       "      <td>Belo Horizonte (MG)</td>\n",
       "      <td>2.3</td>\n",
       "      <td>274</td>\n",
       "      <td>2300000.0</td>\n",
       "    </tr>\n",
       "    <tr>\n",
       "      <th>6</th>\n",
       "      <td>Manaus (AM)</td>\n",
       "      <td>2.0</td>\n",
       "      <td>277</td>\n",
       "      <td>2000000.0</td>\n",
       "    </tr>\n",
       "    <tr>\n",
       "      <th>7</th>\n",
       "      <td>Curitiba (PR)</td>\n",
       "      <td>1.7</td>\n",
       "      <td>336</td>\n",
       "      <td>1700000.0</td>\n",
       "    </tr>\n",
       "  </tbody>\n",
       "</table>\n",
       "</div>"
      ],
      "text/plain": [
       "                cidade  populacao em milhoes area urbana em km2   populacao\n",
       "0       São Paulo (SP)                  12.0                914  12000000.0\n",
       "1  Rio de Janeiro (RJ)                   6.5                640   6500000.0\n",
       "2        Brasília (DF)                   3.0                590   3000000.0\n",
       "3       Fortaleza (CE)                   2.4                253   2400000.0\n",
       "4        Salvador (BA)                   2.4                196   2400000.0\n",
       "5  Belo Horizonte (MG)                   2.3                274   2300000.0\n",
       "6          Manaus (AM)                   2.0                277   2000000.0\n",
       "7        Curitiba (PR)                   1.7                336   1700000.0"
      ]
     },
     "execution_count": 28,
     "metadata": {},
     "output_type": "execute_result"
    }
   ],
   "source": [
    "cidades_populosas['populacao'] = cidades_populosas['populacao em milhoes'] * 1_000_000\n",
    "cidades_populosas"
   ]
  },
  {
   "cell_type": "code",
   "execution_count": 29,
   "id": "47a64c7b-e920-4b26-bff8-118e6e701757",
   "metadata": {},
   "outputs": [
    {
     "name": "stdout",
     "output_type": "stream",
     "text": [
      "<class 'pandas.core.frame.DataFrame'>\n",
      "RangeIndex: 8 entries, 0 to 7\n",
      "Data columns (total 4 columns):\n",
      " #   Column                Non-Null Count  Dtype  \n",
      "---  ------                --------------  -----  \n",
      " 0   cidade                8 non-null      object \n",
      " 1   populacao em milhoes  8 non-null      float64\n",
      " 2   area urbana em km2    8 non-null      object \n",
      " 3   populacao             8 non-null      float64\n",
      "dtypes: float64(2), object(2)\n",
      "memory usage: 388.0+ bytes\n"
     ]
    }
   ],
   "source": [
    "cidades_populosas.info()"
   ]
  },
  {
   "cell_type": "code",
   "execution_count": 31,
   "id": "7a93d1b7-7dd0-42ca-8e82-348fd613bcf1",
   "metadata": {},
   "outputs": [
    {
     "name": "stdout",
     "output_type": "stream",
     "text": [
      "<class 'pandas.core.frame.DataFrame'>\n",
      "RangeIndex: 8 entries, 0 to 7\n",
      "Data columns (total 4 columns):\n",
      " #   Column                Non-Null Count  Dtype  \n",
      "---  ------                --------------  -----  \n",
      " 0   cidade                8 non-null      object \n",
      " 1   populacao em milhoes  8 non-null      float64\n",
      " 2   area urbana em km2    8 non-null      int64  \n",
      " 3   populacao             8 non-null      float64\n",
      "dtypes: float64(2), int64(1), object(1)\n",
      "memory usage: 388.0+ bytes\n"
     ]
    }
   ],
   "source": [
    "cidades_populosas['area urbana em km2'] = cidades_populosas['area urbana em km2'].astype(int)\n",
    "cidades_populosas.info()"
   ]
  },
  {
   "cell_type": "markdown",
   "id": "83f6d912-a61c-438c-860d-219852240622",
   "metadata": {},
   "source": [
    "## Combinando Dados de Colunas"
   ]
  },
  {
   "cell_type": "code",
   "execution_count": 32,
   "id": "1d141ef1-c4fb-4181-8616-507c258691ae",
   "metadata": {},
   "outputs": [
    {
     "data": {
      "text/html": [
       "<div>\n",
       "<style scoped>\n",
       "    .dataframe tbody tr th:only-of-type {\n",
       "        vertical-align: middle;\n",
       "    }\n",
       "\n",
       "    .dataframe tbody tr th {\n",
       "        vertical-align: top;\n",
       "    }\n",
       "\n",
       "    .dataframe thead th {\n",
       "        text-align: right;\n",
       "    }\n",
       "</style>\n",
       "<table border=\"1\" class=\"dataframe\">\n",
       "  <thead>\n",
       "    <tr style=\"text-align: right;\">\n",
       "      <th></th>\n",
       "      <th>cidade</th>\n",
       "      <th>populacao em milhoes</th>\n",
       "      <th>area urbana em km2</th>\n",
       "      <th>populacao</th>\n",
       "      <th>habitantes por km2</th>\n",
       "    </tr>\n",
       "  </thead>\n",
       "  <tbody>\n",
       "    <tr>\n",
       "      <th>0</th>\n",
       "      <td>São Paulo (SP)</td>\n",
       "      <td>12.0</td>\n",
       "      <td>914</td>\n",
       "      <td>12000000.0</td>\n",
       "      <td>13129.102845</td>\n",
       "    </tr>\n",
       "    <tr>\n",
       "      <th>1</th>\n",
       "      <td>Rio de Janeiro (RJ)</td>\n",
       "      <td>6.5</td>\n",
       "      <td>640</td>\n",
       "      <td>6500000.0</td>\n",
       "      <td>10156.250000</td>\n",
       "    </tr>\n",
       "    <tr>\n",
       "      <th>2</th>\n",
       "      <td>Brasília (DF)</td>\n",
       "      <td>3.0</td>\n",
       "      <td>590</td>\n",
       "      <td>3000000.0</td>\n",
       "      <td>5084.745763</td>\n",
       "    </tr>\n",
       "    <tr>\n",
       "      <th>3</th>\n",
       "      <td>Fortaleza (CE)</td>\n",
       "      <td>2.4</td>\n",
       "      <td>253</td>\n",
       "      <td>2400000.0</td>\n",
       "      <td>9486.166008</td>\n",
       "    </tr>\n",
       "    <tr>\n",
       "      <th>4</th>\n",
       "      <td>Salvador (BA)</td>\n",
       "      <td>2.4</td>\n",
       "      <td>196</td>\n",
       "      <td>2400000.0</td>\n",
       "      <td>12244.897959</td>\n",
       "    </tr>\n",
       "    <tr>\n",
       "      <th>5</th>\n",
       "      <td>Belo Horizonte (MG)</td>\n",
       "      <td>2.3</td>\n",
       "      <td>274</td>\n",
       "      <td>2300000.0</td>\n",
       "      <td>8394.160584</td>\n",
       "    </tr>\n",
       "    <tr>\n",
       "      <th>6</th>\n",
       "      <td>Manaus (AM)</td>\n",
       "      <td>2.0</td>\n",
       "      <td>277</td>\n",
       "      <td>2000000.0</td>\n",
       "      <td>7220.216606</td>\n",
       "    </tr>\n",
       "    <tr>\n",
       "      <th>7</th>\n",
       "      <td>Curitiba (PR)</td>\n",
       "      <td>1.7</td>\n",
       "      <td>336</td>\n",
       "      <td>1700000.0</td>\n",
       "      <td>5059.523810</td>\n",
       "    </tr>\n",
       "  </tbody>\n",
       "</table>\n",
       "</div>"
      ],
      "text/plain": [
       "                cidade  populacao em milhoes  area urbana em km2   populacao  \\\n",
       "0       São Paulo (SP)                  12.0                 914  12000000.0   \n",
       "1  Rio de Janeiro (RJ)                   6.5                 640   6500000.0   \n",
       "2        Brasília (DF)                   3.0                 590   3000000.0   \n",
       "3       Fortaleza (CE)                   2.4                 253   2400000.0   \n",
       "4        Salvador (BA)                   2.4                 196   2400000.0   \n",
       "5  Belo Horizonte (MG)                   2.3                 274   2300000.0   \n",
       "6          Manaus (AM)                   2.0                 277   2000000.0   \n",
       "7        Curitiba (PR)                   1.7                 336   1700000.0   \n",
       "\n",
       "   habitantes por km2  \n",
       "0        13129.102845  \n",
       "1        10156.250000  \n",
       "2         5084.745763  \n",
       "3         9486.166008  \n",
       "4        12244.897959  \n",
       "5         8394.160584  \n",
       "6         7220.216606  \n",
       "7         5059.523810  "
      ]
     },
     "execution_count": 32,
     "metadata": {},
     "output_type": "execute_result"
    }
   ],
   "source": [
    "cidades_populosas['habitantes por km2'] = cidades_populosas['populacao'] / cidades_populosas['area urbana em km2']\n",
    "cidades_populosas"
   ]
  },
  {
   "cell_type": "code",
   "execution_count": 36,
   "id": "af0d1d8f-3465-4dfb-b269-df88427f5bd8",
   "metadata": {},
   "outputs": [
    {
     "name": "stdout",
     "output_type": "stream",
     "text": [
      "Lista final {'Bruna': 1, 'Pedro': 1, 'Fabricio': 1, 'Carla': 1, 'Carolina': 1, 'Felipe': 1, 'Debora': 1}\n"
     ]
    }
   ],
   "source": [
    "def teste_de_nome(nome, dict_de_nomes):\n",
    "    if nome in dict_de_nomes:\n",
    "        return True\n",
    "    return False\n",
    "\n",
    "dict_de_nomes = {\n",
    "    'Bruna':1,\n",
    "    'Pedro':1,\n",
    "    'Fabricio':1,\n",
    "    'Carla':1,\n",
    "    'Carolina':1,\n",
    "    'Felipe':1\n",
    "}\n",
    "\n",
    "nome = 'Debora'\n",
    "\n",
    "if(teste_de_nome(nome, dict_de_nomes)):\n",
    "    dict_de_nomes[nome] += 1\n",
    "else:\n",
    "    dict_de_nomes[nome] = 1\n",
    "\n",
    "print('Lista final', dict_de_nomes)"
   ]
  },
  {
   "cell_type": "code",
   "execution_count": 38,
   "id": "b2c64cec-aa50-43b0-ad0d-3f5e490fccc8",
   "metadata": {},
   "outputs": [],
   "source": [
    "## exercicios"
   ]
  },
  {
   "cell_type": "code",
   "execution_count": null,
   "id": "5bba7acc-2fee-4341-98d8-de80af3deb34",
   "metadata": {},
   "outputs": [],
   "source": []
  }
 ],
 "metadata": {
  "kernelspec": {
   "display_name": "Python 3 (ipykernel)",
   "language": "python",
   "name": "python3"
  },
  "language_info": {
   "codemirror_mode": {
    "name": "ipython",
    "version": 3
   },
   "file_extension": ".py",
   "mimetype": "text/x-python",
   "name": "python",
   "nbconvert_exporter": "python",
   "pygments_lexer": "ipython3",
   "version": "3.12.8"
  }
 },
 "nbformat": 4,
 "nbformat_minor": 5
}
