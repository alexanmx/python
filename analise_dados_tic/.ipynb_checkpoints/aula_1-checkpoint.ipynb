{
 "cells": [
  {
   "cell_type": "code",
   "execution_count": 5,
   "id": "6ee6469f-ac88-4f15-b14b-9784d90bd1d2",
   "metadata": {},
   "outputs": [],
   "source": [
    "# tipos de variáveis\n",
    "nome = 'Alexandre' #string\n",
    "idade = 45 #int\n",
    "valor_em_carteira = 345.99 #float\n",
    "vip = True # boolean\n",
    "\n",
    "# em python, as variáveis são dinâmicas,\n",
    "# pode-se mudar o tipo em execução"
   ]
  },
  {
   "cell_type": "code",
   "execution_count": 10,
   "id": "ad4eb0fa-f2c3-4f53-bf6a-04e5e1a5313c",
   "metadata": {},
   "outputs": [
    {
     "name": "stdout",
     "output_type": "stream",
     "text": [
      "30\n",
      "AlexandreLourenço\n"
     ]
    }
   ],
   "source": [
    "# funções\n",
    "def soma_dois_valores(valor1, valor2):\n",
    "    resultado = valor1 + valor2\n",
    "    return resultado\n",
    "\n",
    "valor1 = 10\n",
    "valor2 = 20\n",
    "soma = soma_dois_valores(valor1, valor2)\n",
    "\n",
    "print(soma) # printa 30\n",
    "print(soma_dois_valores('Alexandre', 'Lourenço')) # concatena strings"
   ]
  },
  {
   "cell_type": "code",
   "execution_count": 13,
   "id": "1d21030b-5b19-43e0-aa8a-0eacc6f7a33e",
   "metadata": {},
   "outputs": [
    {
     "name": "stdout",
     "output_type": "stream",
     "text": [
      "['Joaquim', 'José', 'João', 'Maria']\n",
      "Joaquim\n",
      "['Joaquim', 'José', 'João', 'Maria', 'Roberta']\n"
     ]
    }
   ],
   "source": [
    "# listas\n",
    "lista_clientes = ['Joaquim', 'José', 'João',  'Maria']\n",
    "lista_produtos = ['Maçã', 'Banana', 'Chocolate']\n",
    "\n",
    "print(lista_clientes)\n",
    "print(lista_clientes[0])\n",
    "\n",
    "# adiciona item\n",
    "lista_clientes.append('Roberta')\n",
    "print(lista_clientes)"
   ]
  },
  {
   "cell_type": "code",
   "execution_count": 16,
   "id": "02b17a6b-1601-403a-8b1a-3f864aae94f5",
   "metadata": {},
   "outputs": [
    {
     "name": "stdout",
     "output_type": "stream",
     "text": [
      "('banana', 4, 8.0)\n",
      "8.0\n",
      "[('banana', 4, 8.0)]\n"
     ]
    }
   ],
   "source": [
    "# tuplas\n",
    "# organizar informações diferentes sobre o mesmo contexto\n",
    "# valores não mudam\n",
    "venda = ('banana', 4, 8.0)\n",
    "\n",
    "print(venda)\n",
    "print(venda[2])\n",
    "\n",
    "lista_vendas = []\n",
    "lista_vendas.append(venda)\n",
    "print(lista_vendas)"
   ]
  },
  {
   "cell_type": "code",
   "execution_count": 21,
   "id": "e0c4e619-3fca-4d98-b539-7b30bff30944",
   "metadata": {},
   "outputs": [
    {
     "name": "stdout",
     "output_type": "stream",
     "text": [
      "{'nome': 'Joaquim', 'idade': 34, 'vip': True, 'carteira': 345.99}\n",
      "Joaquim\n",
      "[{'nome': 'Joaquim', 'idade': 34, 'vip': True, 'carteira': 345.99}]\n",
      "[{'nome': 'Joaquim', 'idade': 43, 'vip': True, 'carteira': 345.99}]\n"
     ]
    }
   ],
   "source": [
    "# dicionários\n",
    "cliente_1 = {\n",
    "    'nome': 'Joaquim',\n",
    "    'idade': 34,\n",
    "    'vip': True,\n",
    "    'carteira': 345.99\n",
    "}\n",
    "\n",
    "print(cliente_1)\n",
    "print(cliente_1['nome'])\n",
    "\n",
    "lista_clientes = [cliente_1]\n",
    "print(lista_clientes)\n",
    "\n",
    "cliente_1['idade'] = 43\n",
    "print(lista_clientes)"
   ]
  },
  {
   "cell_type": "code",
   "execution_count": 31,
   "id": "230271e9-ab6d-41f4-8c10-c35674aa2511",
   "metadata": {},
   "outputs": [
    {
     "name": "stdout",
     "output_type": "stream",
     "text": [
      "9\n",
      "81\n",
      "81.0\n",
      "1.4142135623730951\n",
      "-2.185039863261519\n"
     ]
    }
   ],
   "source": [
    "# bibliotecas\n",
    "print(3 * 3)\n",
    "print(3 * 3 * 3 * 3)\n",
    "\n",
    "import math\n",
    "print(math.pow(3,4))\n",
    "print(math.sqrt(2))\n",
    "print(math.tan(2))"
   ]
  },
  {
   "cell_type": "code",
   "execution_count": null,
   "id": "85768830-6aa2-4234-93e1-d0cbdb7339a3",
   "metadata": {},
   "outputs": [],
   "source": []
  }
 ],
 "metadata": {
  "kernelspec": {
   "display_name": "Python 3 (ipykernel)",
   "language": "python",
   "name": "python3"
  },
  "language_info": {
   "codemirror_mode": {
    "name": "ipython",
    "version": 3
   },
   "file_extension": ".py",
   "mimetype": "text/x-python",
   "name": "python",
   "nbconvert_exporter": "python",
   "pygments_lexer": "ipython3",
   "version": "3.12.8"
  }
 },
 "nbformat": 4,
 "nbformat_minor": 5
}
